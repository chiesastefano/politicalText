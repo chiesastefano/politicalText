{
 "cells": [
  {
   "metadata": {},
   "cell_type": "markdown",
   "source": [
    "# Politics of Emotions or Propaganda? (P3)\n",
    "\n",
    "This project explores how **emotional language** is used strategically in political texts—such as speeches, social media posts, or debates—to **influence perception and manipulate audience response**.\n",
    "\n",
    "The objective is to move beyond simple emotion classification and toward an **interpretation of emotion’s rhetorical function** within political discourse.\n",
    "\n",
    "Data source: https://www.presidency.ucsb.edu/\n"
   ],
   "id": "8a77807f92f26ee"
  },
  {
   "metadata": {
    "ExecuteTime": {
     "end_time": "2025-05-08T14:53:00.210586Z",
     "start_time": "2025-05-08T14:52:57.534032Z"
    }
   },
   "cell_type": "code",
   "source": [
    "# Install required packages from the requirement.txt file if not already installed\n",
    "!pip install -r requirements.txt"
   ],
   "id": "a918e78a6661ca8f",
   "outputs": [
    {
     "name": "stdout",
     "output_type": "stream",
     "text": [
      "Requirement already satisfied: transformers in c:\\users\\maidi\\miniconda3\\envs\\python310\\lib\\site-packages (from -r requirements.txt (line 1)) (4.51.3)\n",
      "Requirement already satisfied: pipeline in c:\\users\\maidi\\miniconda3\\envs\\python310\\lib\\site-packages (from -r requirements.txt (line 2)) (0.1.0)\n",
      "Requirement already satisfied: torch in c:\\users\\maidi\\miniconda3\\envs\\python310\\lib\\site-packages (from -r requirements.txt (line 3)) (2.7.0+cu118)\n",
      "Requirement already satisfied: pandas in c:\\users\\maidi\\miniconda3\\envs\\python310\\lib\\site-packages (from -r requirements.txt (line 5)) (2.2.3)\n",
      "Requirement already satisfied: pathlib in c:\\users\\maidi\\miniconda3\\envs\\python310\\lib\\site-packages (from -r requirements.txt (line 6)) (1.0.1)\n",
      "Requirement already satisfied: huggingface_hub[hf_xet] in c:\\users\\maidi\\miniconda3\\envs\\python310\\lib\\site-packages (from -r requirements.txt (line 4)) (0.31.1)\n",
      "Requirement already satisfied: filelock in c:\\users\\maidi\\miniconda3\\envs\\python310\\lib\\site-packages (from transformers->-r requirements.txt (line 1)) (3.18.0)\n",
      "Requirement already satisfied: numpy>=1.17 in c:\\users\\maidi\\miniconda3\\envs\\python310\\lib\\site-packages (from transformers->-r requirements.txt (line 1)) (2.2.5)\n",
      "Requirement already satisfied: packaging>=20.0 in c:\\users\\maidi\\miniconda3\\envs\\python310\\lib\\site-packages (from transformers->-r requirements.txt (line 1)) (24.2)\n",
      "Requirement already satisfied: pyyaml>=5.1 in c:\\users\\maidi\\miniconda3\\envs\\python310\\lib\\site-packages (from transformers->-r requirements.txt (line 1)) (6.0.2)\n",
      "Requirement already satisfied: regex!=2019.12.17 in c:\\users\\maidi\\miniconda3\\envs\\python310\\lib\\site-packages (from transformers->-r requirements.txt (line 1)) (2024.11.6)\n",
      "Requirement already satisfied: requests in c:\\users\\maidi\\miniconda3\\envs\\python310\\lib\\site-packages (from transformers->-r requirements.txt (line 1)) (2.32.3)\n",
      "Requirement already satisfied: tokenizers<0.22,>=0.21 in c:\\users\\maidi\\miniconda3\\envs\\python310\\lib\\site-packages (from transformers->-r requirements.txt (line 1)) (0.21.1)\n",
      "Requirement already satisfied: safetensors>=0.4.3 in c:\\users\\maidi\\miniconda3\\envs\\python310\\lib\\site-packages (from transformers->-r requirements.txt (line 1)) (0.5.3)\n",
      "Requirement already satisfied: tqdm>=4.27 in c:\\users\\maidi\\miniconda3\\envs\\python310\\lib\\site-packages (from transformers->-r requirements.txt (line 1)) (4.67.1)\n",
      "Requirement already satisfied: fsspec>=2023.5.0 in c:\\users\\maidi\\miniconda3\\envs\\python310\\lib\\site-packages (from huggingface_hub[hf_xet]->-r requirements.txt (line 4)) (2025.3.2)\n",
      "Requirement already satisfied: typing-extensions>=3.7.4.3 in c:\\users\\maidi\\miniconda3\\envs\\python310\\lib\\site-packages (from huggingface_hub[hf_xet]->-r requirements.txt (line 4)) (4.12.2)\n",
      "Requirement already satisfied: sympy>=1.13.3 in c:\\users\\maidi\\miniconda3\\envs\\python310\\lib\\site-packages (from torch->-r requirements.txt (line 3)) (1.14.0)\n",
      "Requirement already satisfied: networkx in c:\\users\\maidi\\miniconda3\\envs\\python310\\lib\\site-packages (from torch->-r requirements.txt (line 3)) (3.4.2)\n",
      "Requirement already satisfied: jinja2 in c:\\users\\maidi\\miniconda3\\envs\\python310\\lib\\site-packages (from torch->-r requirements.txt (line 3)) (3.1.6)\n",
      "Requirement already satisfied: hf-xet<2.0.0,>=1.1.0 in c:\\users\\maidi\\miniconda3\\envs\\python310\\lib\\site-packages (from huggingface_hub[hf_xet]->-r requirements.txt (line 4)) (1.1.0)\n",
      "Requirement already satisfied: python-dateutil>=2.8.2 in c:\\users\\maidi\\miniconda3\\envs\\python310\\lib\\site-packages (from pandas->-r requirements.txt (line 5)) (2.9.0.post0)\n",
      "Requirement already satisfied: pytz>=2020.1 in c:\\users\\maidi\\miniconda3\\envs\\python310\\lib\\site-packages (from pandas->-r requirements.txt (line 5)) (2024.1)\n",
      "Requirement already satisfied: tzdata>=2022.7 in c:\\users\\maidi\\miniconda3\\envs\\python310\\lib\\site-packages (from pandas->-r requirements.txt (line 5)) (2025.2)\n",
      "Requirement already satisfied: six>=1.5 in c:\\users\\maidi\\miniconda3\\envs\\python310\\lib\\site-packages (from python-dateutil>=2.8.2->pandas->-r requirements.txt (line 5)) (1.17.0)\n",
      "Requirement already satisfied: mpmath<1.4,>=1.1.0 in c:\\users\\maidi\\miniconda3\\envs\\python310\\lib\\site-packages (from sympy>=1.13.3->torch->-r requirements.txt (line 3)) (1.3.0)\n",
      "Requirement already satisfied: colorama in c:\\users\\maidi\\miniconda3\\envs\\python310\\lib\\site-packages (from tqdm>=4.27->transformers->-r requirements.txt (line 1)) (0.4.6)\n",
      "Requirement already satisfied: MarkupSafe>=2.0 in c:\\users\\maidi\\miniconda3\\envs\\python310\\lib\\site-packages (from jinja2->torch->-r requirements.txt (line 3)) (3.0.2)\n",
      "Requirement already satisfied: charset-normalizer<4,>=2 in c:\\users\\maidi\\miniconda3\\envs\\python310\\lib\\site-packages (from requests->transformers->-r requirements.txt (line 1)) (3.3.2)\n",
      "Requirement already satisfied: idna<4,>=2.5 in c:\\users\\maidi\\miniconda3\\envs\\python310\\lib\\site-packages (from requests->transformers->-r requirements.txt (line 1)) (3.7)\n",
      "Requirement already satisfied: urllib3<3,>=1.21.1 in c:\\users\\maidi\\miniconda3\\envs\\python310\\lib\\site-packages (from requests->transformers->-r requirements.txt (line 1)) (2.3.0)\n",
      "Requirement already satisfied: certifi>=2017.4.17 in c:\\users\\maidi\\miniconda3\\envs\\python310\\lib\\site-packages (from requests->transformers->-r requirements.txt (line 1)) (2025.4.26)\n"
     ]
    }
   ],
   "execution_count": 13
  },
  {
   "metadata": {},
   "cell_type": "markdown",
   "source": [
    "## Dataset Development\n",
    "Data source: https://www.presidency.ucsb.edu/documents/app-categories/elections-and-transitions/debates\n",
    "\n",
    "Check the file fun.py to see how the speaches are cleaned."
   ],
   "id": "453b774473110518"
  },
  {
   "metadata": {
    "ExecuteTime": {
     "end_time": "2025-05-08T14:53:00.317332Z",
     "start_time": "2025-05-08T14:53:00.212580Z"
    }
   },
   "cell_type": "code",
   "source": [
    "from fun import process_debate_transcripts\n",
    "process_debate_transcripts(\"transcripts\", \"data\")"
   ],
   "id": "dc5e6e71b5e7df5",
   "outputs": [
    {
     "name": "stdout",
     "output_type": "stream",
     "text": [
      "Processed: TRUMP_BIDEN_ATLANTA_2024.txt → TRUMP_BIDEN_ATLANTA_2024.csv\n",
      "Processed: TRUMP_BIDEN_CLEVELAND_2020.txt → TRUMP_BIDEN_CLEVELAND_2020.csv\n",
      "Processed: TRUMP_BIDEN_NASHVILLE_2020.txt → TRUMP_BIDEN_NASHVILLE_2020.csv\n",
      "Processed: TRUMP_CLINTON_HEMPSTEAD_2016.txt → TRUMP_CLINTON_HEMPSTEAD_2016.csv\n",
      "Processed: TRUMP_CLINTON_LOUIS_2016.txt → TRUMP_CLINTON_LOUIS_2016.csv\n",
      "Processed: TRUMP_CLINTON_NEVADA_2016.txt → TRUMP_CLINTON_NEVADA_2016.csv\n",
      "Processed: TRUMP_HARRIS_PHILADELPHIA_2024.txt → TRUMP_HARRIS_PHILADELPHIA_2024.csv\n"
     ]
    }
   ],
   "execution_count": 14
  },
  {
   "metadata": {
    "ExecuteTime": {
     "end_time": "2025-05-08T14:53:00.348245Z",
     "start_time": "2025-05-08T14:53:00.318298Z"
    }
   },
   "cell_type": "code",
   "source": [
    "import pandas as pd\n",
    "atlanta = pd.read_csv(\"data\\TRUMP_BIDEN_ATLANTA_2024.csv\")\n",
    "atlanta"
   ],
   "id": "8418e3f941195dfc",
   "outputs": [
    {
     "data": {
      "text/plain": [
       "     SpeechID                                             Speech    Speaker  \\\n",
       "0           1  We're live from Georgia, a key battleground st...  Moderator   \n",
       "1           2  This debate is being produced by CNN and it's ...  Moderator   \n",
       "2           3  I'm Jake Tapper, anchor of CNN's \"THE LEAD\" an...  Moderator   \n",
       "3           4  When it's time for our candidate to speak, his...  Moderator   \n",
       "4           5  Now, please welcome the 46th of the United Sta...  Moderator   \n",
       "..        ...                                                ...        ...   \n",
       "173       176  It is now time for the candidates to deliver t...  Moderator   \n",
       "174       177  We've made significant progress from the debac...      Biden   \n",
       "175       178  Thank you, President Biden. President Trump, y...  Moderator   \n",
       "176       179  Like so many politicians, this man is just a c...      Trump   \n",
       "177       180  Thank you, former President Trump, President B...  Moderator   \n",
       "\n",
       "    Location  Year  \n",
       "0    Atlanta  2024  \n",
       "1    Atlanta  2024  \n",
       "2    Atlanta  2024  \n",
       "3    Atlanta  2024  \n",
       "4    Atlanta  2024  \n",
       "..       ...   ...  \n",
       "173  Atlanta  2024  \n",
       "174  Atlanta  2024  \n",
       "175  Atlanta  2024  \n",
       "176  Atlanta  2024  \n",
       "177  Atlanta  2024  \n",
       "\n",
       "[178 rows x 5 columns]"
      ],
      "text/html": [
       "<div>\n",
       "<style scoped>\n",
       "    .dataframe tbody tr th:only-of-type {\n",
       "        vertical-align: middle;\n",
       "    }\n",
       "\n",
       "    .dataframe tbody tr th {\n",
       "        vertical-align: top;\n",
       "    }\n",
       "\n",
       "    .dataframe thead th {\n",
       "        text-align: right;\n",
       "    }\n",
       "</style>\n",
       "<table border=\"1\" class=\"dataframe\">\n",
       "  <thead>\n",
       "    <tr style=\"text-align: right;\">\n",
       "      <th></th>\n",
       "      <th>SpeechID</th>\n",
       "      <th>Speech</th>\n",
       "      <th>Speaker</th>\n",
       "      <th>Location</th>\n",
       "      <th>Year</th>\n",
       "    </tr>\n",
       "  </thead>\n",
       "  <tbody>\n",
       "    <tr>\n",
       "      <th>0</th>\n",
       "      <td>1</td>\n",
       "      <td>We're live from Georgia, a key battleground st...</td>\n",
       "      <td>Moderator</td>\n",
       "      <td>Atlanta</td>\n",
       "      <td>2024</td>\n",
       "    </tr>\n",
       "    <tr>\n",
       "      <th>1</th>\n",
       "      <td>2</td>\n",
       "      <td>This debate is being produced by CNN and it's ...</td>\n",
       "      <td>Moderator</td>\n",
       "      <td>Atlanta</td>\n",
       "      <td>2024</td>\n",
       "    </tr>\n",
       "    <tr>\n",
       "      <th>2</th>\n",
       "      <td>3</td>\n",
       "      <td>I'm Jake Tapper, anchor of CNN's \"THE LEAD\" an...</td>\n",
       "      <td>Moderator</td>\n",
       "      <td>Atlanta</td>\n",
       "      <td>2024</td>\n",
       "    </tr>\n",
       "    <tr>\n",
       "      <th>3</th>\n",
       "      <td>4</td>\n",
       "      <td>When it's time for our candidate to speak, his...</td>\n",
       "      <td>Moderator</td>\n",
       "      <td>Atlanta</td>\n",
       "      <td>2024</td>\n",
       "    </tr>\n",
       "    <tr>\n",
       "      <th>4</th>\n",
       "      <td>5</td>\n",
       "      <td>Now, please welcome the 46th of the United Sta...</td>\n",
       "      <td>Moderator</td>\n",
       "      <td>Atlanta</td>\n",
       "      <td>2024</td>\n",
       "    </tr>\n",
       "    <tr>\n",
       "      <th>...</th>\n",
       "      <td>...</td>\n",
       "      <td>...</td>\n",
       "      <td>...</td>\n",
       "      <td>...</td>\n",
       "      <td>...</td>\n",
       "    </tr>\n",
       "    <tr>\n",
       "      <th>173</th>\n",
       "      <td>176</td>\n",
       "      <td>It is now time for the candidates to deliver t...</td>\n",
       "      <td>Moderator</td>\n",
       "      <td>Atlanta</td>\n",
       "      <td>2024</td>\n",
       "    </tr>\n",
       "    <tr>\n",
       "      <th>174</th>\n",
       "      <td>177</td>\n",
       "      <td>We've made significant progress from the debac...</td>\n",
       "      <td>Biden</td>\n",
       "      <td>Atlanta</td>\n",
       "      <td>2024</td>\n",
       "    </tr>\n",
       "    <tr>\n",
       "      <th>175</th>\n",
       "      <td>178</td>\n",
       "      <td>Thank you, President Biden. President Trump, y...</td>\n",
       "      <td>Moderator</td>\n",
       "      <td>Atlanta</td>\n",
       "      <td>2024</td>\n",
       "    </tr>\n",
       "    <tr>\n",
       "      <th>176</th>\n",
       "      <td>179</td>\n",
       "      <td>Like so many politicians, this man is just a c...</td>\n",
       "      <td>Trump</td>\n",
       "      <td>Atlanta</td>\n",
       "      <td>2024</td>\n",
       "    </tr>\n",
       "    <tr>\n",
       "      <th>177</th>\n",
       "      <td>180</td>\n",
       "      <td>Thank you, former President Trump, President B...</td>\n",
       "      <td>Moderator</td>\n",
       "      <td>Atlanta</td>\n",
       "      <td>2024</td>\n",
       "    </tr>\n",
       "  </tbody>\n",
       "</table>\n",
       "<p>178 rows × 5 columns</p>\n",
       "</div>"
      ]
     },
     "execution_count": 15,
     "metadata": {},
     "output_type": "execute_result"
    }
   ],
   "execution_count": 15
  },
  {
   "metadata": {
    "ExecuteTime": {
     "end_time": "2025-05-08T14:53:00.380175Z",
     "start_time": "2025-05-08T14:53:00.350212Z"
    }
   },
   "cell_type": "code",
   "source": [
    "nevada = pd.read_csv(\"data\\TRUMP_CLINTON_NEVADA_2016.csv\")\n",
    "nevada"
   ],
   "id": "6c5aca2463f5e11a",
   "outputs": [
    {
     "data": {
      "text/plain": [
       "     SpeechID                                             Speech    Speaker  \\\n",
       "0           1  Good evening from the Thomas and Mack Center a...  Moderator   \n",
       "1           2  Thank you very much, Chris. And thanks to UNLV...    Clinton   \n",
       "2           3  Secretary Clinton, thank you. Mr. Trump, same ...  Moderator   \n",
       "3           4  Well, first of all, it's great to be with you,...      Trump   \n",
       "4           5  Mr. Trump, thank you. We now have about 10 min...  Moderator   \n",
       "..        ...                                                ...        ...   \n",
       "329       330  This is—this is the final time, probably to bo...  Moderator   \n",
       "330       331  Well, I would like to say to everyone watching...    Clinton   \n",
       "331       332           Secretary Clinton, thank you. Mr. Trump?  Moderator   \n",
       "332       333  She's raising the money from the people she wa...      Trump   \n",
       "333       334  Thank you both. Secretary Clinton—hold on just...  Moderator   \n",
       "\n",
       "    Location  Year  \n",
       "0     Nevada  2016  \n",
       "1     Nevada  2016  \n",
       "2     Nevada  2016  \n",
       "3     Nevada  2016  \n",
       "4     Nevada  2016  \n",
       "..       ...   ...  \n",
       "329   Nevada  2016  \n",
       "330   Nevada  2016  \n",
       "331   Nevada  2016  \n",
       "332   Nevada  2016  \n",
       "333   Nevada  2016  \n",
       "\n",
       "[334 rows x 5 columns]"
      ],
      "text/html": [
       "<div>\n",
       "<style scoped>\n",
       "    .dataframe tbody tr th:only-of-type {\n",
       "        vertical-align: middle;\n",
       "    }\n",
       "\n",
       "    .dataframe tbody tr th {\n",
       "        vertical-align: top;\n",
       "    }\n",
       "\n",
       "    .dataframe thead th {\n",
       "        text-align: right;\n",
       "    }\n",
       "</style>\n",
       "<table border=\"1\" class=\"dataframe\">\n",
       "  <thead>\n",
       "    <tr style=\"text-align: right;\">\n",
       "      <th></th>\n",
       "      <th>SpeechID</th>\n",
       "      <th>Speech</th>\n",
       "      <th>Speaker</th>\n",
       "      <th>Location</th>\n",
       "      <th>Year</th>\n",
       "    </tr>\n",
       "  </thead>\n",
       "  <tbody>\n",
       "    <tr>\n",
       "      <th>0</th>\n",
       "      <td>1</td>\n",
       "      <td>Good evening from the Thomas and Mack Center a...</td>\n",
       "      <td>Moderator</td>\n",
       "      <td>Nevada</td>\n",
       "      <td>2016</td>\n",
       "    </tr>\n",
       "    <tr>\n",
       "      <th>1</th>\n",
       "      <td>2</td>\n",
       "      <td>Thank you very much, Chris. And thanks to UNLV...</td>\n",
       "      <td>Clinton</td>\n",
       "      <td>Nevada</td>\n",
       "      <td>2016</td>\n",
       "    </tr>\n",
       "    <tr>\n",
       "      <th>2</th>\n",
       "      <td>3</td>\n",
       "      <td>Secretary Clinton, thank you. Mr. Trump, same ...</td>\n",
       "      <td>Moderator</td>\n",
       "      <td>Nevada</td>\n",
       "      <td>2016</td>\n",
       "    </tr>\n",
       "    <tr>\n",
       "      <th>3</th>\n",
       "      <td>4</td>\n",
       "      <td>Well, first of all, it's great to be with you,...</td>\n",
       "      <td>Trump</td>\n",
       "      <td>Nevada</td>\n",
       "      <td>2016</td>\n",
       "    </tr>\n",
       "    <tr>\n",
       "      <th>4</th>\n",
       "      <td>5</td>\n",
       "      <td>Mr. Trump, thank you. We now have about 10 min...</td>\n",
       "      <td>Moderator</td>\n",
       "      <td>Nevada</td>\n",
       "      <td>2016</td>\n",
       "    </tr>\n",
       "    <tr>\n",
       "      <th>...</th>\n",
       "      <td>...</td>\n",
       "      <td>...</td>\n",
       "      <td>...</td>\n",
       "      <td>...</td>\n",
       "      <td>...</td>\n",
       "    </tr>\n",
       "    <tr>\n",
       "      <th>329</th>\n",
       "      <td>330</td>\n",
       "      <td>This is—this is the final time, probably to bo...</td>\n",
       "      <td>Moderator</td>\n",
       "      <td>Nevada</td>\n",
       "      <td>2016</td>\n",
       "    </tr>\n",
       "    <tr>\n",
       "      <th>330</th>\n",
       "      <td>331</td>\n",
       "      <td>Well, I would like to say to everyone watching...</td>\n",
       "      <td>Clinton</td>\n",
       "      <td>Nevada</td>\n",
       "      <td>2016</td>\n",
       "    </tr>\n",
       "    <tr>\n",
       "      <th>331</th>\n",
       "      <td>332</td>\n",
       "      <td>Secretary Clinton, thank you. Mr. Trump?</td>\n",
       "      <td>Moderator</td>\n",
       "      <td>Nevada</td>\n",
       "      <td>2016</td>\n",
       "    </tr>\n",
       "    <tr>\n",
       "      <th>332</th>\n",
       "      <td>333</td>\n",
       "      <td>She's raising the money from the people she wa...</td>\n",
       "      <td>Trump</td>\n",
       "      <td>Nevada</td>\n",
       "      <td>2016</td>\n",
       "    </tr>\n",
       "    <tr>\n",
       "      <th>333</th>\n",
       "      <td>334</td>\n",
       "      <td>Thank you both. Secretary Clinton—hold on just...</td>\n",
       "      <td>Moderator</td>\n",
       "      <td>Nevada</td>\n",
       "      <td>2016</td>\n",
       "    </tr>\n",
       "  </tbody>\n",
       "</table>\n",
       "<p>334 rows × 5 columns</p>\n",
       "</div>"
      ]
     },
     "execution_count": 16,
     "metadata": {},
     "output_type": "execute_result"
    }
   ],
   "execution_count": 16
  },
  {
   "metadata": {
    "ExecuteTime": {
     "end_time": "2025-05-08T14:53:00.475876Z",
     "start_time": "2025-05-08T14:53:00.381130Z"
    }
   },
   "cell_type": "code",
   "source": [
    "import os\n",
    "\n",
    "# List to store dataframes\n",
    "dataframes = []\n",
    "\n",
    "# Iterate through all files in the folder\n",
    "for file in os.listdir(\"data\"):\n",
    "    if file.endswith(\".csv\"):\n",
    "        file_path = os.path.join(\"data\", file)\n",
    "        df = pd.read_csv(file_path)\n",
    "        dataframes.append(df)\n",
    "# Concatenate all dataframes\n",
    "combined_df = pd.concat(dataframes, ignore_index=True)\n",
    "\n",
    "# Save the combined dataframe to a new .csv file\n",
    "combined_df.to_csv(\"data/combined_speeches.csv\", index=False)"
   ],
   "id": "574f4efb9ad452e9",
   "outputs": [],
   "execution_count": 17
  },
  {
   "metadata": {
    "ExecuteTime": {
     "end_time": "2025-05-08T14:53:00.521841Z",
     "start_time": "2025-05-08T14:53:00.476874Z"
    }
   },
   "cell_type": "code",
   "source": [
    "# Check the combined dataframe\n",
    "speeches = pd.read_csv(\"data/combined_speeches.csv\")\n",
    "speeches.count()"
   ],
   "id": "a9a59221e0e5d48c",
   "outputs": [
    {
     "data": {
      "text/plain": [
       "SpeechID    5090\n",
       "Speech      5090\n",
       "Speaker     5090\n",
       "Location    5090\n",
       "Year        5090\n",
       "dtype: int64"
      ]
     },
     "execution_count": 18,
     "metadata": {},
     "output_type": "execute_result"
    }
   ],
   "execution_count": 18
  },
  {
   "metadata": {
    "ExecuteTime": {
     "end_time": "2025-05-08T14:53:00.537800Z",
     "start_time": "2025-05-08T14:53:00.522839Z"
    }
   },
   "cell_type": "code",
   "source": "speeches.head()",
   "id": "969f08de6e493dc8",
   "outputs": [
    {
     "data": {
      "text/plain": [
       "   SpeechID                                             Speech    Speaker  \\\n",
       "0         1  We're live from Georgia, a key battleground st...  Moderator   \n",
       "1         2  This debate is being produced by CNN and it's ...  Moderator   \n",
       "2         3  I'm Jake Tapper, anchor of CNN's \"THE LEAD\" an...  Moderator   \n",
       "3         4  When it's time for our candidate to speak, his...  Moderator   \n",
       "4         5  Now, please welcome the 46th of the United Sta...  Moderator   \n",
       "\n",
       "  Location  Year  \n",
       "0  Atlanta  2024  \n",
       "1  Atlanta  2024  \n",
       "2  Atlanta  2024  \n",
       "3  Atlanta  2024  \n",
       "4  Atlanta  2024  "
      ],
      "text/html": [
       "<div>\n",
       "<style scoped>\n",
       "    .dataframe tbody tr th:only-of-type {\n",
       "        vertical-align: middle;\n",
       "    }\n",
       "\n",
       "    .dataframe tbody tr th {\n",
       "        vertical-align: top;\n",
       "    }\n",
       "\n",
       "    .dataframe thead th {\n",
       "        text-align: right;\n",
       "    }\n",
       "</style>\n",
       "<table border=\"1\" class=\"dataframe\">\n",
       "  <thead>\n",
       "    <tr style=\"text-align: right;\">\n",
       "      <th></th>\n",
       "      <th>SpeechID</th>\n",
       "      <th>Speech</th>\n",
       "      <th>Speaker</th>\n",
       "      <th>Location</th>\n",
       "      <th>Year</th>\n",
       "    </tr>\n",
       "  </thead>\n",
       "  <tbody>\n",
       "    <tr>\n",
       "      <th>0</th>\n",
       "      <td>1</td>\n",
       "      <td>We're live from Georgia, a key battleground st...</td>\n",
       "      <td>Moderator</td>\n",
       "      <td>Atlanta</td>\n",
       "      <td>2024</td>\n",
       "    </tr>\n",
       "    <tr>\n",
       "      <th>1</th>\n",
       "      <td>2</td>\n",
       "      <td>This debate is being produced by CNN and it's ...</td>\n",
       "      <td>Moderator</td>\n",
       "      <td>Atlanta</td>\n",
       "      <td>2024</td>\n",
       "    </tr>\n",
       "    <tr>\n",
       "      <th>2</th>\n",
       "      <td>3</td>\n",
       "      <td>I'm Jake Tapper, anchor of CNN's \"THE LEAD\" an...</td>\n",
       "      <td>Moderator</td>\n",
       "      <td>Atlanta</td>\n",
       "      <td>2024</td>\n",
       "    </tr>\n",
       "    <tr>\n",
       "      <th>3</th>\n",
       "      <td>4</td>\n",
       "      <td>When it's time for our candidate to speak, his...</td>\n",
       "      <td>Moderator</td>\n",
       "      <td>Atlanta</td>\n",
       "      <td>2024</td>\n",
       "    </tr>\n",
       "    <tr>\n",
       "      <th>4</th>\n",
       "      <td>5</td>\n",
       "      <td>Now, please welcome the 46th of the United Sta...</td>\n",
       "      <td>Moderator</td>\n",
       "      <td>Atlanta</td>\n",
       "      <td>2024</td>\n",
       "    </tr>\n",
       "  </tbody>\n",
       "</table>\n",
       "</div>"
      ]
     },
     "execution_count": 19,
     "metadata": {},
     "output_type": "execute_result"
    }
   ],
   "execution_count": 19
  },
  {
   "metadata": {},
   "cell_type": "markdown",
   "source": "## Feeding the model",
   "id": "68064d70c8f1ec3c"
  },
  {
   "metadata": {
    "ExecuteTime": {
     "end_time": "2025-05-08T14:53:02.993771Z",
     "start_time": "2025-05-08T14:53:00.538797Z"
    }
   },
   "cell_type": "code",
   "source": [
    "import torch\n",
    "print(torch.cuda.is_available())\n",
    "print(torch.cuda.get_device_name(0))"
   ],
   "id": "a5d4fc79ececc980",
   "outputs": [
    {
     "name": "stdout",
     "output_type": "stream",
     "text": [
      "True\n",
      "NVIDIA GeForce GTX 1070 Ti\n"
     ]
    }
   ],
   "execution_count": 20
  },
  {
   "metadata": {
    "ExecuteTime": {
     "end_time": "2025-05-08T14:53:09.867433Z",
     "start_time": "2025-05-08T14:53:02.995762Z"
    }
   },
   "cell_type": "code",
   "source": [
    "from transformers import AutoTokenizer, AutoModelForSequenceClassification, pipeline\n",
    "\n",
    "# Load the model and tokenizer\n",
    "tokenizer = AutoTokenizer.from_pretrained(\"SamLowe/roberta-base-go_emotions\")\n",
    "model = AutoModelForSequenceClassification.from_pretrained(\"SamLowe/roberta-base-go_emotions\")\n",
    "\n",
    "# Move model to GPU if available\n",
    "device = 0 if torch.cuda.is_available() else -1\n",
    "\n",
    "classifier = pipeline(task=\"text-classification\", model=\"SamLowe/roberta-base-go_emotions\", top_k=None, device=device)"
   ],
   "id": "fbc121e30a2defb3",
   "outputs": [
    {
     "name": "stderr",
     "output_type": "stream",
     "text": [
      "Device set to use cuda:0\n"
     ]
    }
   ],
   "execution_count": 21
  },
  {
   "metadata": {
    "ExecuteTime": {
     "end_time": "2025-05-08T14:53:10.022885Z",
     "start_time": "2025-05-08T14:53:09.869313Z"
    }
   },
   "cell_type": "code",
   "source": [
    "sentences = [\"Hello, I am Joe Biden\"]\n",
    "\n",
    "model_outputs = classifier(sentences)\n",
    "model_outputs[0]\n",
    "# produces a list of dicts for each of the labels\n"
   ],
   "id": "27cf6e22ed6f9d00",
   "outputs": [
    {
     "data": {
      "text/plain": [
       "[{'label': 'neutral', 'score': 0.9357642531394958},\n",
       " {'label': 'approval', 'score': 0.024361375719308853},\n",
       " {'label': 'excitement', 'score': 0.010637336410582066},\n",
       " {'label': 'realization', 'score': 0.01003023236989975},\n",
       " {'label': 'joy', 'score': 0.005965998861938715},\n",
       " {'label': 'annoyance', 'score': 0.004213426727801561},\n",
       " {'label': 'admiration', 'score': 0.0030739184003323317},\n",
       " {'label': 'amusement', 'score': 0.0028852401301264763},\n",
       " {'label': 'surprise', 'score': 0.00273154117166996},\n",
       " {'label': 'fear', 'score': 0.0024596164003014565},\n",
       " {'label': 'optimism', 'score': 0.00232110102660954},\n",
       " {'label': 'sadness', 'score': 0.002088801935315132},\n",
       " {'label': 'disgust', 'score': 0.0019926358945667744},\n",
       " {'label': 'gratitude', 'score': 0.0019211502512916923},\n",
       " {'label': 'curiosity', 'score': 0.001899787806905806},\n",
       " {'label': 'anger', 'score': 0.0018068865174427629},\n",
       " {'label': 'confusion', 'score': 0.001738501014187932},\n",
       " {'label': 'disappointment', 'score': 0.0016148401191458106},\n",
       " {'label': 'love', 'score': 0.0015690475702285767},\n",
       " {'label': 'desire', 'score': 0.001450763433240354},\n",
       " {'label': 'caring', 'score': 0.0013109459541738033},\n",
       " {'label': 'embarrassment', 'score': 0.001006077858619392},\n",
       " {'label': 'pride', 'score': 0.0009118904708884656},\n",
       " {'label': 'disapproval', 'score': 0.00085808290168643},\n",
       " {'label': 'relief', 'score': 0.0008268656092695892},\n",
       " {'label': 'nervousness', 'score': 0.0006187308463267982},\n",
       " {'label': 'grief', 'score': 0.0006107445806264877},\n",
       " {'label': 'remorse', 'score': 0.0005640647141262889}]"
      ]
     },
     "execution_count": 22,
     "metadata": {},
     "output_type": "execute_result"
    }
   ],
   "execution_count": 22
  },
  {
   "metadata": {
    "ExecuteTime": {
     "end_time": "2025-05-08T14:53:10.038890Z",
     "start_time": "2025-05-08T14:53:10.023878Z"
    }
   },
   "cell_type": "code",
   "source": "",
   "id": "ba761cc4848fc766",
   "outputs": [],
   "execution_count": 22
  }
 ],
 "metadata": {
  "kernelspec": {
   "display_name": "Python 3",
   "language": "python",
   "name": "python3"
  },
  "language_info": {
   "codemirror_mode": {
    "name": "ipython",
    "version": 2
   },
   "file_extension": ".py",
   "mimetype": "text/x-python",
   "name": "python",
   "nbconvert_exporter": "python",
   "pygments_lexer": "ipython2",
   "version": "2.7.6"
  }
 },
 "nbformat": 4,
 "nbformat_minor": 5
}
